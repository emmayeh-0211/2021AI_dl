{
  "nbformat": 4,
  "nbformat_minor": 0,
  "metadata": {
    "colab": {
      "name": "cifar10.ipynb",
      "provenance": [],
      "authorship_tag": "ABX9TyPHYmB3jqJ5nJ4pCfW2w1HJ",
      "include_colab_link": true
    },
    "kernelspec": {
      "name": "python3",
      "display_name": "Python 3"
    },
    "language_info": {
      "name": "python"
    }
  },
  "cells": [
    {
      "cell_type": "markdown",
      "metadata": {
        "id": "view-in-github",
        "colab_type": "text"
      },
      "source": [
        "<a href=\"https://colab.research.google.com/github/emmayeh-0211/2021AI_dl/blob/main/cifar10.ipynb\" target=\"_parent\"><img src=\"https://colab.research.google.com/assets/colab-badge.svg\" alt=\"Open In Colab\"/></a>"
      ]
    },
    {
      "cell_type": "code",
      "metadata": {
        "colab": {
          "base_uri": "https://localhost:8080/"
        },
        "id": "SdqYvDM1_YZK",
        "outputId": "8daf1a93-4520-4007-ff8b-8cf610183c39"
      },
      "source": [
        "# 載入資料\n",
        "from tensorflow.keras.datasets.cifar10 import load_data\n",
        "(x_train, y_train), (x_test, y_test) = load_data()"
      ],
      "execution_count": 2,
      "outputs": [
        {
          "output_type": "stream",
          "text": [
            "Downloading data from https://www.cs.toronto.edu/~kriz/cifar-10-python.tar.gz\n",
            "170500096/170498071 [==============================] - 6s 0us/step\n"
          ],
          "name": "stdout"
        }
      ]
    },
    {
      "cell_type": "code",
      "metadata": {
        "colab": {
          "base_uri": "https://localhost:8080/"
        },
        "id": "tBZ1pmcj_u3S",
        "outputId": "4d2457fd-2867-45a1-9f82-c892ff2632ec"
      },
      "source": [
        "# 看一下載入資料的數量跟尺寸 .shape 看每一個維度的數量\n",
        "print('x_train' ,x_train.shape)\n",
        "print('y_train' ,y_train.shape)\n",
        "print('x_test' ,x_test.shape)\n",
        "print('y_test' ,y_test.shape)"
      ],
      "execution_count": 4,
      "outputs": [
        {
          "output_type": "stream",
          "text": [
            "x_train (50000, 32, 32, 3)\n",
            "y_train (50000, 1)\n",
            "x_test (10000, 32, 32, 3)\n",
            "y_test (10000, 1)\n"
          ],
          "name": "stdout"
        }
      ]
    },
    {
      "cell_type": "code",
      "metadata": {
        "id": "tSdmHnH2BXMV"
      },
      "source": [
        "# 分類的類型\n",
        "names = [\n",
        "    \"airplane\",\t\t\t\t\t\t\t\t\t\t\n",
        "    \"automobile\",\t\t\t\t\t\t\t\t\t\t\n",
        "    \"bird\",\t\t\t\t\t\t\t\t\t\t\n",
        "    \"cat\",\t\t\t\t\t\t\t\t\t\t\n",
        "    \"deer\",\t\t\t\t\t\t\t\t\t\t\n",
        "    \"dog\",\t\t\t\t\t\t\t\t\t\t\n",
        "    \"frog\",\t\t\t\t\t\t\t\t\t\t\n",
        "    \"horse\",\t\t\t\t\t\t\t\t\t\t\n",
        "    \"ship\",\t\t\t\t\t\t\t\t\t\t\n",
        "    \"truck\"\n",
        "]"
      ],
      "execution_count": 6,
      "outputs": []
    },
    {
      "cell_type": "code",
      "metadata": {
        "colab": {
          "base_uri": "https://localhost:8080/",
          "height": 300
        },
        "id": "9UZfUbhSCbBv",
        "outputId": "f196f2e4-68c5-495b-9947-1657e50511fd"
      },
      "source": [
        "# mnist y_train的shape是 : (60000, ) 代表裡面的資料是長這樣 => [5, 2, 1, 0]\n",
        "# cifar的y_train shape 是（50000，1）代表裡面的資料是長這樣 => [[5], [2], [1], [0], ......]\n",
        "import matplotlib.pyplot as plt\n",
        "import random\n",
        "idx = random.randint(0, 49999)\n",
        "ans = y_train[idx][0]\n",
        "print(names[ans])\n",
        "plt.imshow(x_train[idx])"
      ],
      "execution_count": 9,
      "outputs": [
        {
          "output_type": "stream",
          "text": [
            "truck\n"
          ],
          "name": "stdout"
        },
        {
          "output_type": "execute_result",
          "data": {
            "text/plain": [
              "<matplotlib.image.AxesImage at 0x7fbbd3dae0d0>"
            ]
          },
          "metadata": {
            "tags": []
          },
          "execution_count": 9
        },
        {
          "output_type": "display_data",
          "data": {
            "image/png": "[encoded data removed]",
            "text/plain": [
              "<Figure size 432x288 with 1 Axes>"
            ]
          },
          "metadata": {
            "tags": [],
            "needs_background": "light"
          }
        }
      ]
    }
  ]
}