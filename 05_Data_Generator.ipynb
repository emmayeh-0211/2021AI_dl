{
  "nbformat": 4,
  "nbformat_minor": 0,
  "metadata": {
    "colab": {
      "name": "05-Data Generator.ipynb",
      "provenance": [],
      "collapsed_sections": [],
      "include_colab_link": true
    },
    "kernelspec": {
      "name": "python3",
      "display_name": "Python 3"
    },
    "language_info": {
      "name": "python"
    }
  },
  "cells": [
    {
      "cell_type": "markdown",
      "metadata": {
        "id": "view-in-github",
        "colab_type": "text"
      },
      "source": [
        "<a href=\"https://colab.research.google.com/github/emmayeh-0211/2021AI_dl/blob/main/05_Data_Generator.ipynb\" target=\"_parent\"><img src=\"https://colab.research.google.com/assets/colab-badge.svg\" alt=\"Open In Colab\"/></a>"
      ]
    },
    {
      "cell_type": "code",
      "metadata": {
        "colab": {
          "base_uri": "https://localhost:8080/"
        },
        "id": "0cIZz63I4m-U",
        "outputId": "358db0c1-ecc8-487e-f565-8303c501583a"
      },
      "source": [
        "# download dataset from https://drive.google.com/file/d/12iinuMZkaZOZGXlkPsUnmETaE-cMlyHu/view?usp=sharing\n",
        "!gdown --id 12iinuMZkaZOZGXlkPsUnmETaE-cMlyHu --output defect.zip"
      ],
      "execution_count": null,
      "outputs": [
        {
          "output_type": "stream",
          "text": [
            "Downloading...\n",
            "From: https://drive.google.com/uc?id=12iinuMZkaZOZGXlkPsUnmETaE-cMlyHu\n",
            "To: /content/defect.zip\n",
            "53.2MB [00:00, 61.4MB/s]\n"
          ],
          "name": "stdout"
        }
      ]
    },
    {
      "cell_type": "code",
      "metadata": {
        "id": "hDLQgYmY6ROq"
      },
      "source": [
        "# unzip file\n",
        "!unzip -q defect.zip"
      ],
      "execution_count": null,
      "outputs": []
    },
    {
      "cell_type": "code",
      "metadata": {
        "id": "8pr2Ympo4qpc"
      },
      "source": [
        "import tensorflow as tf\n",
        "import cv2\n",
        "import numpy as np\n",
        "from glob import glob # 搜尋路徑的套件\n",
        "from sklearn.model_selection import train_test_split # sklearn中 切成training data 跟 test data 的套件功能"
      ],
      "execution_count": null,
      "outputs": []
    },
    {
      "cell_type": "code",
      "metadata": {
        "id": "5xWBxpOz4uIG"
      },
      "source": [
        "class DataGenerator(tf.keras.utils.Sequence):\n",
        "    def __init__(self, img_paths, batch_size, img_size, shuffle=True, aug=False):\n",
        "        self.img_paths = img_paths\n",
        "        self.batch_size = batch_size\n",
        "        self.img_size = img_size\n",
        "        self.shuffle = shuffle\n",
        "        self.aug = aug\n",
        "\n",
        "        self.indexes = np.arange(len(self.img_paths)) # 假設有6筆資料，產生的np array就是[0, 1, 2, 3, 4, 5]\n",
        "        self.on_epoch_end()\n",
        "\n",
        "    def __len__(self): # 每一個epoch在產生資料的時候，總共有幾個batch\n",
        "        return int(np.ceil(len(self.img_paths) / self.batch_size)) # batches per epoch\n",
        "          # 資料筆數 / batch size，其實就是在計算一個epoch有幾個batches\n",
        "\n",
        "    def __getitem__(self, index): # 要拿第幾個batch\n",
        "        # Generate indexes of the batch\n",
        "        idxs = self.indexes[index * self.batch_size:(index + 1) * self.batch_size]\n",
        "        # Find list of IDs\n",
        "        batch_img_paths = [self.img_paths[i] for i in idxs]\n",
        "\n",
        "        # Generates data containing batch_size samples\n",
        "        x = np.empty((len(batch_img_paths), self.img_size, self.img_size, 3), dtype=np.float32) # x代表有幾張圖\n",
        "        y = np.empty((len(batch_img_paths), 1), dtype=np.float32) # y代表就是label，如果是分類，就是分類向量的內容\n",
        "\n",
        "        for i, img_path in enumerate(batch_img_paths):\n",
        "            # read img\n",
        "            img = cv2.imread(img_path)\n",
        "            img = cv2.resize(img, (self.img_size, self.img_size))\n",
        "            img = img / 255.\n",
        "\n",
        "            if self.aug:\n",
        "                img = img # Augmentation\n",
        "                \n",
        "            # read class label\n",
        "            cls = img_path.split('/')[-3]\n",
        "            if cls == 'MT_Free':\n",
        "                cls = 0\n",
        "            else:\n",
        "                cls = 1\n",
        "            x[i] = img\n",
        "            y[i] = cls\n",
        "            # 如果是做多分類的話，在return出去之前要先做one-hot encoding\n",
        "        return x, y\n",
        "\n",
        "    def on_epoch_end(self):\n",
        "        # Updates indexes after each epoch\n",
        "        if self.shuffle:\n",
        "            np.random.shuffle(self.indexes)"
      ],
      "execution_count": null,
      "outputs": []
    },
    {
      "cell_type": "code",
      "metadata": {
        "id": "YvwAqcJ46NNM"
      },
      "source": [
        "img_paths = glob('./Magnetic-tile-defect/MT_Free/Imgs/*.jpg') + glob('./Magnetic-tile-defect/MT_Blowhole/Imgs/*.jpg')\n",
        "# *代表符合.jpg的所有檔案"
      ],
      "execution_count": null,
      "outputs": []
    },
    {
      "cell_type": "code",
      "metadata": {
        "colab": {
          "base_uri": "https://localhost:8080/"
        },
        "id": "38kJs_9L6oUI",
        "outputId": "4897ae2e-ac45-4e8b-e3f2-5a09d215a9a8"
      },
      "source": [
        "len(img_paths)"
      ],
      "execution_count": null,
      "outputs": [
        {
          "output_type": "execute_result",
          "data": {
            "text/plain": [
              "1067"
            ]
          },
          "metadata": {
            "tags": []
          },
          "execution_count": 6
        }
      ]
    },
    {
      "cell_type": "code",
      "metadata": {
        "id": "qwvXKNi-6tGm"
      },
      "source": [
        "train_img_paths, val_img_paths = train_test_split(img_paths, test_size=0.2)\n",
        "# 測試資料留0.2，因此訓練資料會是0.8"
      ],
      "execution_count": null,
      "outputs": []
    },
    {
      "cell_type": "code",
      "metadata": {
        "colab": {
          "base_uri": "https://localhost:8080/"
        },
        "id": "e3_101s-68xR",
        "outputId": "08dd8392-947f-449d-bdfa-cc5fcd331bf2"
      },
      "source": [
        "len(train_img_paths), len(val_img_paths)"
      ],
      "execution_count": null,
      "outputs": [
        {
          "output_type": "execute_result",
          "data": {
            "text/plain": [
              "(853, 214)"
            ]
          },
          "metadata": {
            "tags": []
          },
          "execution_count": 8
        }
      ]
    },
    {
      "cell_type": "code",
      "metadata": {
        "id": "7CzkhVMF6_FV"
      },
      "source": [
        "train_gen = DataGenerator(train_img_paths, 32, 200, shuffle=True, aug=True)\n",
        "val_gen = DataGenerator(val_img_paths, 32, 200, shuffle=False, aug=False)"
      ],
      "execution_count": null,
      "outputs": []
    },
    {
      "cell_type": "code",
      "metadata": {
        "id": "Gan4kb8T7X7Y"
      },
      "source": [
        "\n",
        "# get 1 batch\n",
        "imgs, labels = train_gen[2]\n",
        "# imgs 圖片 labels 正確答案"
      ],
      "execution_count": null,
      "outputs": []
    },
    {
      "cell_type": "code",
      "metadata": {
        "colab": {
          "base_uri": "https://localhost:8080/"
        },
        "id": "pHhEDpOv78G8",
        "outputId": "10cd3aa3-432c-4f86-f022-859381114c59"
      },
      "source": [
        "imgs.shape, labels.shape"
      ],
      "execution_count": null,
      "outputs": [
        {
          "output_type": "execute_result",
          "data": {
            "text/plain": [
              "((32, 200, 200, 3), (32, 1))"
            ]
          },
          "metadata": {
            "tags": []
          },
          "execution_count": 18
        }
      ]
    },
    {
      "cell_type": "code",
      "metadata": {
        "id": "3rDUi7DabdIX"
      },
      "source": [
        "print(labels)"
      ],
      "execution_count": null,
      "outputs": []
    },
    {
      "cell_type": "code",
      "metadata": {
        "id": "_zoqCf7v8Irp"
      },
      "source": [
        "# train\n",
        "\n",
        "model.fit(train_gen,\n",
        "          validation_data=val_gen,\n",
        "          epochs=10,\n",
        "          )"
      ],
      "execution_count": null,
      "outputs": []
    }
  ]
}