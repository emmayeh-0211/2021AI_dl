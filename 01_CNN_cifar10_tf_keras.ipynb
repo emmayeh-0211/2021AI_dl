{
  "nbformat": 4,
  "nbformat_minor": 0,
  "metadata": {
    "colab": {
      "name": "01-CNN-cifar10-tf.keras.ipynb",
      "provenance": [],
      "include_colab_link": true
    },
    "kernelspec": {
      "name": "python3",
      "display_name": "Python 3"
    },
    "accelerator": "GPU"
  },
  "cells": [
    {
      "cell_type": "markdown",
      "metadata": {
        "id": "view-in-github",
        "colab_type": "text"
      },
      "source": [
        "<a href=\"https://colab.research.google.com/github/emmayeh-0211/2021AI_dl/blob/main/01_CNN_cifar10_tf_keras.ipynb\" target=\"_parent\"><img src=\"https://colab.research.google.com/assets/colab-badge.svg\" alt=\"Open In Colab\"/></a>"
      ]
    },
    {
      "cell_type": "code",
      "metadata": {
        "id": "xZwrBuj9g6jx"
      },
      "source": [
        "from tensorflow.keras import datasets, models, layers, utils, losses, optimizers\n",
        "import numpy as np\n",
        "import matplotlib.pyplot as plt"
      ],
      "execution_count": 1,
      "outputs": []
    },
    {
      "cell_type": "code",
      "metadata": {
        "id": "Ssnney6OhM_X"
      },
      "source": [
        "num_classes = 10 # 分類數量\n",
        "img_size = 32 # 圖片尺寸"
      ],
      "execution_count": 2,
      "outputs": []
    },
    {
      "cell_type": "markdown",
      "metadata": {
        "id": "KHrzP6_nh314"
      },
      "source": [
        "#### Load Dataset"
      ]
    },
    {
      "cell_type": "code",
      "metadata": {
        "id": "pgxQ4uyHhPuH",
        "colab": {
          "base_uri": "https://localhost:8080/"
        },
        "outputId": "560492e5-1b9c-4e20-cc49-c1aa463dcf1b"
      },
      "source": [
        "# (訓練的input, 訓練的output), (測試的input, 測試應該要有的output答案)\n",
        "(x_train, y_train), (x_val, y_val) = datasets.cifar10.load_data() "
      ],
      "execution_count": 3,
      "outputs": [
        {
          "output_type": "stream",
          "text": [
            "Downloading data from https://www.cs.toronto.edu/~kriz/cifar-10-python.tar.gz\n",
            "170500096/170498071 [==============================] - 4s 0us/step\n"
          ],
          "name": "stdout"
        }
      ]
    },
    {
      "cell_type": "code",
      "metadata": {
        "colab": {
          "base_uri": "https://localhost:8080/",
          "height": 317
        },
        "id": "GLJKop4MhZEP",
        "outputId": "d7391aaf-a52e-4d50-ad8f-c7904b01912a"
      },
      "source": [
        "index = np.random.randint(x_train.shape[0])\n",
        "print('index: ', index) # 要train的資料圖片index編號\n",
        "img, label = x_train[index], y_train[index] #根據index編號，從x_train跟y_train叫出該圖片=img跟該圖片的答案=label\n",
        "print('class:', label) # 秀出上面從y_train來的答案=label\n",
        "plt.imshow(img) # 秀出上面從x_train來的圖片=img"
      ],
      "execution_count": 4,
      "outputs": [
        {
          "output_type": "stream",
          "text": [
            "index:  10849\n",
            "class: [4]\n"
          ],
          "name": "stdout"
        },
        {
          "output_type": "execute_result",
          "data": {
            "text/plain": [
              "<matplotlib.image.AxesImage at 0x7fbf66e12a50>"
            ]
          },
          "metadata": {
            "tags": []
          },
          "execution_count": 4
        },
        {
          "output_type": "display_data",
          "data": {
            "image/png": "[encoded data removed]",
            "text/plain": [
              "<Figure size 432x288 with 1 Axes>"
            ]
          },
          "metadata": {
            "tags": [],
            "needs_background": "light"
          }
        }
      ]
    },
    {
      "cell_type": "markdown",
      "metadata": {
        "id": "nVq24tgMh9UE"
      },
      "source": [
        "#### Preprocess"
      ]
    },
    {
      "cell_type": "code",
      "metadata": {
        "colab": {
          "base_uri": "https://localhost:8080/"
        },
        "id": "gptjCYazhcjo",
        "outputId": "5bca7663-1798-4a6f-b7cc-43ae89d1b1c6"
      },
      "source": [
        "# Normalization 0~1\n",
        "x_train = x_train / 255.\n",
        "x_val = x_val / 255.\n",
        "\n",
        "# ont-hot encoding\n",
        "y_train = utils.to_categorical(y_train, num_classes=num_classes) # 把data丟進去，並告訴它我要分幾類num_classes=\n",
        "y_val = utils.to_categorical(y_val, num_classes=num_classes)\n",
        "\n",
        "x_train.shape, x_val.shape, y_train.shape, y_val.shape"
      ],
      "execution_count": 5,
      "outputs": [
        {
          "output_type": "execute_result",
          "data": {
            "text/plain": [
              "((50000, 32, 32, 3), (10000, 32, 32, 3), (50000, 10), (10000, 10))"
            ]
          },
          "metadata": {
            "tags": []
          },
          "execution_count": 5
        }
      ]
    },
    {
      "cell_type": "markdown",
      "metadata": {
        "id": "PD-SPxkVjCyZ"
      },
      "source": [
        "#### Build Model"
      ]
    },
    {
      "cell_type": "code",
      "metadata": {
        "id": "iCgqmGFoiWH7"
      },
      "source": [
        "# 1\n",
        "inputs = layers.Input(shape=(img_size, img_size, 3))\n",
        "x = layers.Conv2D(filters=32, kernel_size=3, activation='relu', padding='same')(inputs) # 第一次conv\n",
        "x = layers.Conv2D(filters=32, kernel_size=3, activation='relu', padding='same')(x) # 將第一次的conv進行第二次 conv\n",
        "x = layers.MaxPooling2D(2)(x) # 進行一次Maxpooling\n",
        "x = layers.Conv2D(filters=64, kernel_size=3, activation='relu', padding='same')(x) # 將MaxPooling的結果再進行第一次conv\n",
        "x = layers.Conv2D(filters=64, kernel_size=3, activation='relu', padding='same')(x) # 將上面的結果再進行第二次conv\n",
        "x = layers.MaxPooling2D(2)(x)\n",
        "x = layers.Flatten()(x) # 做完了，最後一次進行Flatten，把特徵值取出來\n",
        "x = layers.Dense(512, activation='relu')(x) # 特徵值取出來後，就用全連接層把特徵\n",
        "prediction = layers.Dense(num_classes, activation='softmax')(x)\n",
        "\n",
        "model = models.Model(inputs=inputs, outputs=prediction)"
      ],
      "execution_count": 6,
      "outputs": []
    },
    {
      "cell_type": "code",
      "metadata": {
        "colab": {
          "base_uri": "https://localhost:8080/"
        },
        "id": "bKNlT1dXigKt",
        "outputId": "fc4f4c5e-c556-4324-8a83-db6d5488a718"
      },
      "source": [
        "model.summary()"
      ],
      "execution_count": 7,
      "outputs": [
        {
          "output_type": "stream",
          "text": [
            "Model: \"model\"\n",
            "_________________________________________________________________\n",
            "Layer (type)                 Output Shape              Param #   \n",
            "=================================================================\n",
            "input_1 (InputLayer)         [(None, 32, 32, 3)]       0         \n",
            "_________________________________________________________________\n",
            "conv2d (Conv2D)              (None, 32, 32, 32)        896       \n",
            "_________________________________________________________________\n",
            "conv2d_1 (Conv2D)            (None, 32, 32, 32)        9248      \n",
            "_________________________________________________________________\n",
            "max_pooling2d (MaxPooling2D) (None, 16, 16, 32)        0         \n",
            "_________________________________________________________________\n",
            "conv2d_2 (Conv2D)            (None, 16, 16, 64)        18496     \n",
            "_________________________________________________________________\n",
            "conv2d_3 (Conv2D)            (None, 16, 16, 64)        36928     \n",
            "_________________________________________________________________\n",
            "max_pooling2d_1 (MaxPooling2 (None, 8, 8, 64)          0         \n",
            "_________________________________________________________________\n",
            "flatten (Flatten)            (None, 4096)              0         \n",
            "_________________________________________________________________\n",
            "dense (Dense)                (None, 512)               2097664   \n",
            "_________________________________________________________________\n",
            "dense_1 (Dense)              (None, 10)                5130      \n",
            "=================================================================\n",
            "Total params: 2,168,362\n",
            "Trainable params: 2,168,362\n",
            "Non-trainable params: 0\n",
            "_________________________________________________________________\n"
          ],
          "name": "stdout"
        }
      ]
    },
    {
      "cell_type": "markdown",
      "metadata": {
        "id": "KkSAA-m5jArZ"
      },
      "source": [
        "#### Training"
      ]
    },
    {
      "cell_type": "code",
      "metadata": {
        "id": "S7JhvinNiq4p"
      },
      "source": [
        "model.compile(loss=losses.categorical_crossentropy, \n",
        "              optimizer=optimizers.SGD(), \n",
        "              metrics=['accuracy'])"
      ],
      "execution_count": 8,
      "outputs": []
    },
    {
      "cell_type": "code",
      "metadata": {
        "colab": {
          "base_uri": "https://localhost:8080/"
        },
        "id": "5zUEjqWoit-q",
        "outputId": "f0f0d3ec-ec8b-4bae-b5dc-b881be49c19d"
      },
      "source": [
        "logs = model.fit(x_train, y_train,\n",
        "                batch_size=64,\n",
        "                epochs=10,\n",
        "                verbose=1,\n",
        "                validation_data=(x_val, y_val))"
      ],
      "execution_count": 9,
      "outputs": [
        {
          "output_type": "stream",
          "text": [
            "Epoch 1/10\n",
            "782/782 [==============================] - 37s 8ms/step - loss: 2.0746 - accuracy: 0.2450 - val_loss: 1.9357 - val_accuracy: 0.3035\n",
            "Epoch 2/10\n",
            "782/782 [==============================] - 6s 7ms/step - loss: 1.7403 - accuracy: 0.3801 - val_loss: 1.6455 - val_accuracy: 0.4081\n",
            "Epoch 3/10\n",
            "782/782 [==============================] - 6s 7ms/step - loss: 1.5494 - accuracy: 0.4521 - val_loss: 1.7251 - val_accuracy: 0.3972\n",
            "Epoch 4/10\n",
            "782/782 [==============================] - 6s 7ms/step - loss: 1.4129 - accuracy: 0.4999 - val_loss: 1.3890 - val_accuracy: 0.4936\n",
            "Epoch 5/10\n",
            "782/782 [==============================] - 6s 7ms/step - loss: 1.3097 - accuracy: 0.5336 - val_loss: 1.5589 - val_accuracy: 0.4566\n",
            "Epoch 6/10\n",
            "782/782 [==============================] - 6s 7ms/step - loss: 1.2177 - accuracy: 0.5705 - val_loss: 1.2995 - val_accuracy: 0.5467\n",
            "Epoch 7/10\n",
            "782/782 [==============================] - 6s 7ms/step - loss: 1.1336 - accuracy: 0.6039 - val_loss: 1.4584 - val_accuracy: 0.4962\n",
            "Epoch 8/10\n",
            "782/782 [==============================] - 6s 7ms/step - loss: 1.0599 - accuracy: 0.6278 - val_loss: 1.6420 - val_accuracy: 0.4390\n",
            "Epoch 9/10\n",
            "782/782 [==============================] - 6s 7ms/step - loss: 0.9875 - accuracy: 0.6561 - val_loss: 1.1354 - val_accuracy: 0.6032\n",
            "Epoch 10/10\n",
            "782/782 [==============================] - 6s 7ms/step - loss: 0.9210 - accuracy: 0.6798 - val_loss: 1.3650 - val_accuracy: 0.5359\n"
          ],
          "name": "stdout"
        }
      ]
    },
    {
      "cell_type": "markdown",
      "metadata": {
        "id": "HD_Yw59Wi-JH"
      },
      "source": [
        "#### Logs"
      ]
    },
    {
      "cell_type": "code",
      "metadata": {
        "id": "nSkmrS5_i4ie"
      },
      "source": [
        "\n",
        "history = logs.history"
      ],
      "execution_count": 10,
      "outputs": []
    },
    {
      "cell_type": "code",
      "metadata": {
        "colab": {
          "base_uri": "https://localhost:8080/",
          "height": 298
        },
        "id": "zIbv6UXOlFTd",
        "outputId": "faf014fa-96e2-4832-fbe3-27a72f8339d7"
      },
      "source": [
        "plt.plot(history['accuracy'])\n",
        "plt.plot(history['val_accuracy'])\n",
        "plt.legend(['accuracy', 'val_accuracy'])\n",
        "plt.title('accuracy')"
      ],
      "execution_count": 11,
      "outputs": [
        {
          "output_type": "execute_result",
          "data": {
            "text/plain": [
              "Text(0.5, 1.0, 'accuracy')"
            ]
          },
          "metadata": {
            "tags": []
          },
          "execution_count": 11
        },
        {
          "output_type": "display_data",
          "data": {
            "image/png": "[encoded data removed]",
            "text/plain": [
              "<Figure size 432x288 with 1 Axes>"
            ]
          },
          "metadata": {
            "tags": [],
            "needs_background": "light"
          }
        }
      ]
    },
    {
      "cell_type": "code",
      "metadata": {
        "colab": {
          "base_uri": "https://localhost:8080/",
          "height": 298
        },
        "id": "19sDzfdYlSbD",
        "outputId": "121c4c08-6edf-45d7-b850-168f5e616475"
      },
      "source": [
        "plt.plot(history['loss'])\n",
        "plt.plot(history['val_loss'])\n",
        "plt.legend(['loss', 'val_loss'])\n",
        "plt.title('loss')"
      ],
      "execution_count": 12,
      "outputs": [
        {
          "output_type": "execute_result",
          "data": {
            "text/plain": [
              "Text(0.5, 1.0, 'loss')"
            ]
          },
          "metadata": {
            "tags": []
          },
          "execution_count": 12
        },
        {
          "output_type": "display_data",
          "data": {
            "image/png": "[encoded data removed]",
            "text/plain": [
              "<Figure size 432x288 with 1 Axes>"
            ]
          },
          "metadata": {
            "tags": [],
            "needs_background": "light"
          }
        }
      ]
    },
    {
      "cell_type": "markdown",
      "metadata": {
        "id": "-d6gMbwGljxB"
      },
      "source": [
        "#### Metrics"
      ]
    },
    {
      "cell_type": "code",
      "metadata": {
        "colab": {
          "base_uri": "https://localhost:8080/"
        },
        "id": "IptGLkCdlUYq",
        "outputId": "9d88d022-2cc8-4890-f8ae-139f1ccfc934"
      },
      "source": [
        "from sklearn.metrics import classification_report, confusion_matrix\n",
        "\n",
        "y_true = np.argmax(y_val, axis=-1)\n",
        "prediction = model.predict(x_val)\n",
        "y_pred = np.argmax(prediction, axis=-1)\n",
        "\n",
        "print(y_true.shape, y_pred.shape)"
      ],
      "execution_count": 13,
      "outputs": [
        {
          "output_type": "stream",
          "text": [
            "(10000,) (10000,)\n"
          ],
          "name": "stdout"
        }
      ]
    },
    {
      "cell_type": "code",
      "metadata": {
        "colab": {
          "base_uri": "https://localhost:8080/"
        },
        "id": "KwB2DxlHllKF",
        "outputId": "164aca14-5a97-41cd-f6f4-0b39de863ae9"
      },
      "source": [
        "# classification_report\n",
        "print(classification_report(y_true, y_pred))"
      ],
      "execution_count": 14,
      "outputs": [
        {
          "output_type": "stream",
          "text": [
            "              precision    recall  f1-score   support\n",
            "\n",
            "           0       0.71      0.61      0.66      1000\n",
            "           1       0.75      0.52      0.61      1000\n",
            "           2       0.63      0.37      0.47      1000\n",
            "           3       0.47      0.28      0.35      1000\n",
            "           4       0.70      0.31      0.43      1000\n",
            "           5       0.48      0.61      0.54      1000\n",
            "           6       0.63      0.67      0.65      1000\n",
            "           7       0.63      0.66      0.64      1000\n",
            "           8       0.87      0.38      0.53      1000\n",
            "           9       0.31      0.94      0.47      1000\n",
            "\n",
            "    accuracy                           0.54     10000\n",
            "   macro avg       0.62      0.54      0.54     10000\n",
            "weighted avg       0.62      0.54      0.54     10000\n",
            "\n"
          ],
          "name": "stdout"
        }
      ]
    },
    {
      "cell_type": "code",
      "metadata": {
        "colab": {
          "base_uri": "https://localhost:8080/"
        },
        "id": "ZwdODmmNlp5c",
        "outputId": "b0c4ae0e-6091-445e-8879-a73d3a44ad7d"
      },
      "source": [
        "# Confusion matrix:\n",
        "#   row: Ground truth\n",
        "#   column: predict\n",
        "print(confusion_matrix(y_true, y_pred))"
      ],
      "execution_count": 15,
      "outputs": [
        {
          "output_type": "stream",
          "text": [
            "[[613  29  21  11   3  10  15   8  25 265]\n",
            " [  2 517   1   8   0   1   5   2   1 463]\n",
            " [ 73   7 372  53  54 123 108  64   9 137]\n",
            " [ 18  15  40 282  30 270  72  56   7 210]\n",
            " [ 27   6  73  59 309 113 139 157   7 110]\n",
            " [  8   2  34  97  16 609  30  77   3 124]\n",
            " [  3   8  35  48   8  59 674  12   1 152]\n",
            " [  9   7   9  23  13  72  11 658   1 197]\n",
            " [112  69   7   9   6   9   4   9 383 392]\n",
            " [  3  31   2   4   0   5   4   7   2 942]]\n"
          ],
          "name": "stdout"
        }
      ]
    },
    {
      "cell_type": "markdown",
      "metadata": {
        "id": "BB_JlJoKlvYq"
      },
      "source": [
        "#### Save model"
      ]
    },
    {
      "cell_type": "code",
      "metadata": {
        "id": "KrBCVA72lsMc"
      },
      "source": [
        "# 1. save whole model and weights\n",
        "model.save('my_model.h5')\n",
        "model2 = models.load_model('my_model.h5')"
      ],
      "execution_count": 16,
      "outputs": []
    },
    {
      "cell_type": "code",
      "metadata": {
        "id": "1Nc2e-hqlugA"
      },
      "source": [
        ""
      ],
      "execution_count": 16,
      "outputs": []
    }
  ]
}